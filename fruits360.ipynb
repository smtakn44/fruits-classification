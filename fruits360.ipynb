{
  "metadata": {
    "language_info": {
      "name": ""
    },
    "kernelspec": {
      "name": "",
      "display_name": ""
    }
  },
  "nbformat_minor": 4,
  "nbformat": 4,
  "cells": [
    {
      "cell_type": "code",
      "source": "%python\n!rm /tmp/archive.zip",
      "metadata": {},
      "execution_count": null,
      "outputs": []
    },
    {
      "cell_type": "code",
      "source": "%python\n!rm -r /tmp/fruits-360-original-size",
      "metadata": {},
      "execution_count": null,
      "outputs": []
    },
    {
      "cell_type": "code",
      "source": "%python\nfrom hdfs import InsecureClient\nimport pandas as pd\nclient_hdfs = InsecureClient('http://httpfs.httpfs.svc.cluster.local:14000', user=\"hadoop\")\nclient_hdfs.download(\"/staj/samet/archive.zip\",\"/tmp/\")",
      "metadata": {},
      "execution_count": null,
      "outputs": []
    },
    {
      "cell_type": "code",
      "source": "%python\n!ls /tmp",
      "metadata": {},
      "execution_count": null,
      "outputs": []
    },
    {
      "cell_type": "code",
      "source": "%python\n!ls /tmp -halt",
      "metadata": {},
      "execution_count": null,
      "outputs": []
    },
    {
      "cell_type": "code",
      "source": "%python\nimport zipfile\n\nzip_path = \"/tmp/archive.zip\"\nextract_path = \"/tmp\"\n\nwith zipfile.ZipFile(zip_path, 'r') as zip_ref:\n    zip_ref.extractall(extract_path)",
      "metadata": {},
      "execution_count": null,
      "outputs": []
    },
    {
      "cell_type": "code",
      "source": "%python\n!ls /tmp -halt",
      "metadata": {},
      "execution_count": null,
      "outputs": []
    },
    {
      "cell_type": "code",
      "source": "%python\npip install tensorflow",
      "metadata": {},
      "execution_count": null,
      "outputs": []
    },
    {
      "cell_type": "code",
      "source": "%python\n!pip install  wandb",
      "metadata": {},
      "execution_count": null,
      "outputs": []
    },
    {
      "cell_type": "code",
      "source": "%python\nimport wandb\nimport random # for demo script\n\nwandb.login(key='#wandb key al')",
      "metadata": {},
      "execution_count": null,
      "outputs": []
    },
    {
      "cell_type": "code",
      "source": "%python\nimport wandb\nfrom wandb.keras import WandbMetricsLogger, WandbModelCheckpoint\nfrom tensorflow.keras.preprocessing.image import ImageDataGenerator\nfrom tensorflow.keras.models import Sequential\nfrom tensorflow.keras.layers import Conv2D, MaxPooling2D, Flatten, Dense, Dropout\nfrom tensorflow.keras.optimizers import Adam\nfrom tensorflow.keras.applications import ResNet50, VGG16\nfrom tensorflow.keras.callbacks import TensorBoard\nfrom tensorflow.keras.models import save_model\n\nclass FruitsClassificationModel:\n    def __init__(self, img_size=100):\n        self.img_size = img_size\n\n    def form_custom_model_v1(self, batch_size, learning_rate):\n        # Özelleştirilmiş model oluşturma\n\n        model = Sequential()\n        model.add(Conv2D(64, (3, 3), input_shape=(self.img_size, self.img_size, 3), activation='relu', padding='same'))\n        model.add(MaxPooling2D())\n\n        model.add(Conv2D(64, (3, 3), activation='relu', padding='same'))\n        model.add(MaxPooling2D())\n\n        model.add(Conv2D(128, (3, 3), activation='relu', padding='same'))\n        model.add(MaxPooling2D())\n\n        model.add(Conv2D(256, (3, 3), activation='relu', padding='same'))\n        model.add(MaxPooling2D())\n\n        model.add(Flatten())\n\n        model.add(Dense(256, activation='relu'))\n        model.add(Dropout(0.3))\n        model.add(Dense(131, activation='softmax'))\n\n        optimizer = Adam(learning_rate=learning_rate)\n        model.compile(optimizer=optimizer, loss='sparse_categorical_crossentropy', metrics=['accuracy'])\n\n        return model\n\n    def form_custom_model_v2(self, batch_size, learning_rate):\n        # Özelleştirilmiş model oluşturma\n\n        model = Sequential()\n        model.add(Conv2D(64, (3, 3), input_shape=(self.img_size, self.img_size, 3), activation='relu', padding='same'))\n        model.add(MaxPooling2D())\n\n        model.add(Conv2D(64, (3, 3), activation='relu', padding='same'))\n        model.add(MaxPooling2D())\n\n        model.add(Conv2D(128, (3, 3), activation='relu', padding='same'))\n        model.add(MaxPooling2D())\n\n        model.add(Conv2D(256, (3, 3), activation='relu', padding='same'))\n        model.add(MaxPooling2D())\n\n        model.add(Flatten())\n\n        model.add(Dense(256, activation='relu'))\n        model.add(Dropout(0.5))         ##################################\n        model.add(Dense(131, activation='softmax'))\n\n        optimizer = Adam(learning_rate=learning_rate)\n        model.compile(optimizer=optimizer, loss='sparse_categorical_crossentropy', metrics=['accuracy'])\n\n        return model\n        \n    def form_custom_model_v3(self, batch_size, learning_rate):\n        # Özelleştirilmiş model oluşturma\n\n        model = Sequential()\n        model.add(Conv2D(32, (3, 3), input_shape=(self.img_size, self.img_size, 3), activation='relu', padding='same')) #####################\n        model.add(MaxPooling2D())\n\n        model.add(Conv2D(64, (3, 3), activation='relu', padding='same'))\n        model.add(MaxPooling2D())\n\n        model.add(Conv2D(128, (3, 3), activation='relu', padding='same'))\n        model.add(MaxPooling2D())\n\n        model.add(Conv2D(256, (3, 3), activation='relu', padding='same'))\n        model.add(MaxPooling2D())\n\n        model.add(Flatten())\n\n        model.add(Dense(256, activation='relu'))\n        model.add(Dropout(0.3))\n        model.add(Dense(131, activation='softmax'))\n\n        optimizer = Adam(learning_rate=learning_rate)\n        model.compile(optimizer=optimizer, loss='sparse_categorical_crossentropy', metrics=['accuracy'])\n\n        return model\n        \n    def form_custom_model_v4(self, batch_size, learning_rate):\n        # Özelleştirilmiş model oluşturma\n\n        model = Sequential()\n        model.add(Conv2D(64, (3, 3), input_shape=(self.img_size, self.img_size, 3), activation='relu', padding='same'))\n        model.add(MaxPooling2D())\n\n        model.add(Conv2D(64, (3, 3), activation='relu', padding='same'))\n        model.add(MaxPooling2D())\n\n        model.add(Conv2D(128, (3, 3), activation='relu', padding='same'))\n        model.add(MaxPooling2D())\n\n        model.add(Conv2D(256, (3, 3), activation='relu', padding='same'))\n        model.add(MaxPooling2D())\n\n        model.add(Conv2D(512, (3, 3), activation='relu', padding='same')) ###################################3\n        model.add(MaxPooling2D())\n        \n        model.add(Flatten())\n\n        model.add(Dense(256, activation='relu'))\n        model.add(Dropout(0.3))\n        model.add(Dense(131, activation='softmax'))\n\n        optimizer = Adam(learning_rate=learning_rate)\n        model.compile(optimizer=optimizer, loss='sparse_categorical_crossentropy', metrics=['accuracy'])\n\n        return model\n\n    def form_custom_model_v5(self, batch_size, learning_rate):\n        # Özelleştirilmiş model oluşturma\n\n        model = Sequential()\n        model.add(Conv2D(64, (3, 3), input_shape=(self.img_size, self.img_size, 3), activation='relu', padding='same'))\n        model.add(MaxPooling2D())\n\n        model.add(Conv2D(64, (3, 3), activation='relu', padding='same'))\n        model.add(MaxPooling2D())\n\n        model.add(Conv2D(128, (3, 3), activation='relu', padding='same'))\n        model.add(MaxPooling2D())\n\n ##################################################\n\n        model.add(Flatten())\n\n        model.add(Dense(256, activation='relu'))\n        model.add(Dropout(0.3))\n        model.add(Dense(131, activation='softmax'))\n\n        optimizer = Adam(learning_rate=learning_rate)\n        model.compile(optimizer=optimizer, loss='sparse_categorical_crossentropy', metrics=['accuracy'])\n\n        return model\n   \n   \n    def form_custom_model_v6(self, batch_size, learning_rate):\n    # Özelleştirilmiş model oluşturma\n\n        model = Sequential()\n        model.add(Conv2D(64, (3, 3), input_shape=(self.img_size, self.img_size, 3), activation='relu', padding='same'))\n        model.add(MaxPooling2D())\n    \n        model.add(Conv2D(64, (3, 3), activation='relu', padding='same'))\n        model.add(MaxPooling2D())\n    \n        model.add(Conv2D(128, (3, 3), activation='relu', padding='same'))\n        model.add(MaxPooling2D())\n    \n        model.add(Conv2D(256, (3, 3), activation='relu', padding='same'))\n        model.add(MaxPooling2D())\n    \n        model.add(Flatten())\n    \n        model.add(Dense(256, activation='relu')) \n        model.add(Dropout(0.3))\n        model.add(Dense(256, activation='relu'))\n        model.add(Dropout(0.3))                         #######################################\n        model.add(Dense(131, activation='softmax'))\n    \n        optimizer = Adam(learning_rate=learning_rate)\n        model.compile(optimizer=optimizer, loss='sparse_categorical_crossentropy', metrics=['accuracy'])\n\n        return model     \n        \n\n    def train(self, model_type, batch_size, learning_rate, epochs):\n        run = wandb.init(\n            project=\"fruits-project2\",\n            config={\n                \"model_type\": model_type,\n                \"batch_size\": batch_size,\n                \"learning_rate\": learning_rate,\n                \"epochs\": epochs,\n            }\n        )\n\n        if model_type == 'custom_v1':\n            model = self.form_custom_model_v1(batch_size, learning_rate)\n        elif model_type == 'custom_v2':\n            model = self.form_custom_model_v2(batch_size, learning_rate)\n        elif model_type == 'custom_v3':\n            model = self.form_custom_model_v3(batch_size, learning_rate)\n        elif model_type == 'custom_v4':\n            model = self.form_custom_model_v4(batch_size, learning_rate)\n        elif model_type == 'custom_v5':\n            model = self.form_custom_model_v5(batch_size, learning_rate)\n        elif model_type == 'custom_v6':\n            model = self.form_custom_model_v6(batch_size, learning_rate)\n        else:\n            raise ValueError(\"Geçersiz model tipi. 'custom_v1' ile 'custom_v6' arasında olmalıdır.\")\n            \n\n        \n\n        # Eğitim verilerini hazırlama gibi diğer kod bölümleri buraya gelecek...\n        # 'train_generator' ve 'test_generator' verilerini hazırlamak gibi.\n\n        train_datagen = ImageDataGenerator(\n            rescale=1/255.,\n            rotation_range=15,\n            width_shift_range=0.2,\n            height_shift_range=0.2,\n            zoom_range=0.2,\n            horizontal_flip=True,\n            fill_mode='nearest'\n        )\n        test_datagen = ImageDataGenerator(rescale=1/255.)\n\n        train_generator = train_datagen.flow_from_directory(\n            '/tmp/fruits-360_dataset/fruits-360/Training',\n            target_size=(self.img_size, self.img_size),\n            batch_size=batch_size,\n            shuffle=True,\n            class_mode='sparse'\n        )\n\n        test_generator = test_datagen.flow_from_directory(\n            '/tmp/fruits-360_dataset/fruits-360/Test',\n            target_size=(self.img_size, self.img_size),\n            batch_size=batch_size,\n            shuffle=False,\n            class_mode='sparse'\n        )\n\n        # TensorBoard geriçağırıcısını oluşturun ve loglarınızı belirli bir dizine kaydedin\n        tensorboard_callback = TensorBoard(log_dir='/tmp')\n\n        history = model.fit(\n            train_generator,\n            validation_data=test_generator,\n            epochs=epochs,\n            callbacks=[\n                tensorboard_callback,  # TensorBoard loglarını kaydetmek için TensorBoard geriçağırıcısı\n                WandbMetricsLogger(),  # Weights & Biases için metrikleri loglamak için geriçağırıcı\n                WandbModelCheckpoint(\"models\"),  # Weights & Biases için en iyi modeli kaydedecek geriçağırıcı\n            ]\n        )\n\n        model_save_path = f\"/tmp/model_{model_type}_batch{batch_size}_lr{learning_rate}.h5\"\n        save_model(model, model_save_path)\n        \n        # TensorBoard loglarını Weights & Biases ile senkronize etmek için\n        #wandb.tensorboard.patch(root_logdir='/tmp')\n        wandb.finish()\n        \n\n        return history\n        ",
      "metadata": {},
      "execution_count": null,
      "outputs": []
    },
    {
      "cell_type": "code",
      "source": "%python\nmodel = FruitsClassificationModel()\n\nparam_combinations = [\n    {'model_type': 'custom_v1', 'batch_size': 32, 'learning_rate': 0.001},\n    {'model_type': 'custom_v2', 'batch_size': 32, 'learning_rate': 0.001},\n    {'model_type': 'custom_v3', 'batch_size': 32, 'learning_rate': 0.001},\n    {'model_type': 'custom_v4', 'batch_size': 32, 'learning_rate': 0.001},\n    {'model_type': 'custom_v5', 'batch_size': 32, 'learning_rate': 0.001},\n    {'model_type': 'custom_v6', 'batch_size': 32, 'learning_rate': 0.001}\n]\n\nfor params in param_combinations:\n    model_type = params['model_type']\n    batch_size = params['batch_size']\n    learning_rate = params['learning_rate']\n\n    print(f\"Training with model_type='{model_type}', batch_size={batch_size}, learning_rate={learning_rate}\")\n    history = model.train(model_type=model_type, batch_size=batch_size, learning_rate=learning_rate, epochs=12)\n",
      "metadata": {},
      "execution_count": null,
      "outputs": []
    },
    {
      "cell_type": "code",
      "source": "%python\nmodel = FruitsClassificationModel()\n\nparam_combinations = [\n    {'model_type': 'custom_v2', 'batch_size': 32, 'learning_rate': 0.0001},\n\n]\n\nfor params in param_combinations:\n    model_type = params['model_type']\n    batch_size = params['batch_size']\n    learning_rate = params['learning_rate']\n\n    print(f\"Training with model_type='{model_type}', batch_size={batch_size}, learning_rate={learning_rate}\")\n    history = model.train(model_type=model_type, batch_size=batch_size, learning_rate=learning_rate, epochs=25)",
      "metadata": {},
      "execution_count": null,
      "outputs": []
    },
    {
      "cell_type": "code",
      "source": "%python\n!ls /tmp",
      "metadata": {},
      "execution_count": null,
      "outputs": []
    },
    {
      "cell_type": "code",
      "source": "%python\n!rm /tmp/egitilmis_model_custom_v2_batch32_lr0.0001.h5",
      "metadata": {},
      "execution_count": null,
      "outputs": []
    },
    {
      "cell_type": "code",
      "source": "%python\n\nfrom tensorflow.keras.models import load_model\n\nmodel = load_model('/tmp/model_custom_v2_batch32_lr0.0001.h5')\n\n# Test veri kümesini yükleyin\n\npredictions = model.predict(test_generator)\n\n# Tahminlerin doğru etiketlerle karşılaştırılması\ncorrect_predictions = 0\ntotal_samples = len(test_generator.labels)\n\nfor i in range(total_samples):\n    predicted_label = np.argmax(predictions[i])  # En yüksek olasılığa sahip sınıfı bul\n    true_label = test_generator.labels[i]  # Gerçek etiketi al\n\n    if predicted_label == true_label:\n        correct_predictions += 1\n\n# Doğruluk hesapla\naccuracy = correct_predictions / total_samples * 100\nprint(f\"Test veri kümesi üzerinde doğruluk: {accuracy:.2f}%\")",
      "metadata": {},
      "execution_count": null,
      "outputs": []
    },
    {
      "cell_type": "code",
      "source": "%python\nfrom tensorflow.keras.models import load_model\n\nmodel = load_model('/tmp/model_custom_v2_batch32_lr0.0001.h5')",
      "metadata": {},
      "execution_count": null,
      "outputs": []
    },
    {
      "cell_type": "code",
      "source": "%python\nfrom hdfs import InsecureClient\nimport pandas as pd\nclient_hdfs = InsecureClient('http://httpfs.httpfs.svc.cluster.local:14000', user=\"hadoop\")\nclient_hdfs.download(\"/staj/samet/test-folder.zip\",\"/tmp/\")",
      "metadata": {},
      "execution_count": null,
      "outputs": []
    },
    {
      "cell_type": "code",
      "source": "%python\nimport zipfile\n\nzip_path = \"/tmp/test-folder.zip\"\nextract_path = \"/tmp\"\n\nwith zipfile.ZipFile(zip_path, 'r') as zip_ref:\n    zip_ref.extractall(extract_path)",
      "metadata": {},
      "execution_count": null,
      "outputs": []
    },
    {
      "cell_type": "code",
      "source": "%python\n!ls /tmp",
      "metadata": {},
      "execution_count": null,
      "outputs": []
    },
    {
      "cell_type": "code",
      "source": "%python\nfrom tensorflow.keras.preprocessing.image import ImageDataGenerator\n\n\n# Yabancı veri kümesindeki fotoğrafları uygun boyuta getirin\ntest_pre_folder = ImageDataGenerator(rescale=1/255.)\n\ntest_folder = test_pre_folder.flow_from_directory(\n    '/tmp/test-folder',\n    target_size=(100, 100),  # Uygun boyutu burada belirtin (100x100 olarak kabul ediyoruz)\n    batch_size=32,           # Kullanılacak batch_size'ı belirleyin (eğitimdekiyle aynı olabilir)\n    shuffle=False,\n    class_mode='sparse'\n)\n\n# Yabancı veri kümesi üzerinde modeli değerlendirin\nevaluation_result = model.evaluate(test_folder)\n\n# Accuracy sonucunu yazdırın\nprint(f\"Yabancı veri kümesi üzerinde doğruluk (accuracy): {evaluation_result[1]}\")\n",
      "metadata": {},
      "execution_count": null,
      "outputs": []
    },
    {
      "cell_type": "code",
      "source": "%python\nfrom tensorflow.keras.preprocessing.image import ImageDataGenerator\n\ntest_datagen = ImageDataGenerator(rescale=1/255.)\n\n\ntest_generator = test_datagen.flow_from_directory(\n    '/tmp/fruits-360_dataset/fruits-360/Test',\n    target_size=(100,100),\n    batch_size=batch_size,\n    shuffle=False,\n    class_mode='sparse'\n)\n\n# Yabancı veri kümesi üzerinde modeli değerlendirin\nevaluation_result = model.evaluate(test_generator)\n\n# Accuracy sonucunu yazdırın\nprint(f\"Kendi test kümesi üzerinde doğruluk (accuracy): {evaluation_result[1]}\")\n\n",
      "metadata": {},
      "execution_count": null,
      "outputs": []
    },
    {
      "cell_type": "code",
      "source": "%python\nimport random\nimport os \nfrom tensorflow.keras.preprocessing.image import ImageDataGenerator, img_to_array, load_img\n\n# Yabancı veri kümesinden rastgele 3 tane fotoğraf seçin\nrandom_indices = random.sample(range(len(test_folder.filenames)), 3)\nrandom_images = [test_folder.filenames[i] for i in random_indices]\nrandom_labels = [test_folder.labels[i] for i in random_indices]\n\n# Seçilen fotoğrafları ve tahminleri ekrana yazdırın\nfor image_path, true_label in zip(random_images, random_labels):\n    image = load_img(os.path.join('/tmp/test-folder', image_path), target_size=(100, 100))\n    image_array = img_to_array(image)\n    image_array = image_array.reshape((1,) + image_array.shape)\n    image_array /= 255.0  # Veriyi 0-1 aralığına getirin\n\n    # Tahmini alın\n    predictions = model.predict(image_array)\n    predicted_label = predictions.argmax()\n\n    # Sonuçları yazdırın\n    print(\"Gerçek Etiket:\", test_folder.classes[true_label])\n    print(\"Tahmin Edilen Etiket:\", test_folder.classes[predicted_label])\n    print(\"Tahmin Sonuçları:\", predictions)\n    print(\"Doğru Tahmin mi?:\", true_label == predicted_label)\n    print(\"\\n\")",
      "metadata": {},
      "execution_count": null,
      "outputs": []
    }
  ]
}