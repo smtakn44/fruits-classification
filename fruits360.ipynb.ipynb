﻿{
  "metadata": {
    "name": "thirdtrial",
    "kernelspec": {
      "language": "scala",
      "name": "spark2-scala"
    },
    "language_info": {
      "codemirror_mode": "text/x-scala",
      "file_extension": ".scala",
      "mimetype": "text/x-scala",
      "name": "scala",
      "pygments_lexer": "scala"
    }
  },
  "nbformat": 4,
  "nbformat_minor": 2,
  "cells": [
    {
      "cell_type": "code",
      "execution_count": 0,
      "metadata": {
        "autoscroll": "auto"
      },
      "outputs": [],
      "source": "%python\n!rm /tmp/archive.zip"
    },
    {
      "cell_type": "code",
      "execution_count": 1,
      "metadata": {
        "autoscroll": "auto"
      },
      "outputs": [],
      "source": "%python\n!rm -r /tmp/fruits-360-original-size\n"
    },
    {
      "cell_type": "code",
      "execution_count": 2,
      "metadata": {
        "autoscroll": "auto"
      },
      "outputs": [],
      "source": "%python\nfrom hdfs import InsecureClient\nimport pandas as pd\nclient_hdfs \u003d InsecureClient(\u0027http://httpfs.httpfs.svc.cluster.local:14000\u0027, user\u003d\"hadoop\")\nclient_hdfs.download(\"/staj/samet/archive.zip\",\"/tmp/\")"
    },
    {
      "cell_type": "code",
      "execution_count": 3,
      "metadata": {
        "autoscroll": "auto"
      },
      "outputs": [],
      "source": "%python\n!ls /tmp"
    },
    {
      "cell_type": "code",
      "execution_count": 4,
      "metadata": {
        "autoscroll": "auto"
      },
      "outputs": [],
      "source": "%python!ls /tmp -halt\n"
    },
    {
      "cell_type": "code",
      "execution_count": 5,
      "metadata": {
        "autoscroll": "auto"
      },
      "outputs": [],
      "source": "%python\nimport zipfile\n\nzip_path \u003d \"/tmp/archive.zip\"\nextract_path \u003d \"/tmp\"\n\nwith zipfile.ZipFile(zip_path, \u0027r\u0027) as zip_ref:\n    zip_ref.extractall(extract_path)"
    },
    {
      "cell_type": "code",
      "execution_count": 6,
      "metadata": {
        "autoscroll": "auto"
      },
      "outputs": [],
      "source": "%python\n!ls /tmp -halt"
    },
    {
      "cell_type": "code",
      "execution_count": 7,
      "metadata": {
        "autoscroll": "auto"
      },
      "outputs": [],
      "source": "%python\npip install tensorflow"
    },
    {
      "cell_type": "code",
      "execution_count": 8,
      "metadata": {
        "autoscroll": "auto"
      },
      "outputs": [],
      "source": "%python\n!pip install  wandb"
    },
    {
      "cell_type": "code",
      "execution_count": 9,
      "metadata": {
        "autoscroll": "auto"
      },
      "outputs": [],
      "source": "%python\nimport wandb\nimport random # for demo script\n\nwandb.login(key\u003d\u0027d5f256c3601892822d0f46841b4e8e4129748fb7\u0027)"
    },
    {
      "cell_type": "code",
      "execution_count": 10,
      "metadata": {
        "autoscroll": "auto"
      },
      "outputs": [],
      "source": "%python\nimport wandb\nfrom wandb.keras import WandbMetricsLogger, WandbModelCheckpoint\nfrom tensorflow.keras.preprocessing.image import ImageDataGenerator\nfrom tensorflow.keras.models import Sequential\nfrom tensorflow.keras.layers import Conv2D, MaxPooling2D, Flatten, Dense, Dropout\nfrom tensorflow.keras.optimizers import Adam\nfrom tensorflow.keras.applications import ResNet50, VGG16\nfrom tensorflow.keras.callbacks import TensorBoard\nfrom tensorflow.keras.models import save_model\n\nclass FruitsClassificationModel:\n    def __init__(self, img_size\u003d100):\n        self.img_size \u003d img_size\n\n    def form_custom_model_v1(self, batch_size, learning_rate):\n        # Özelleştirilmiş model oluşturma\n\n        model \u003d Sequential()\n        model.add(Conv2D(64, (3, 3), input_shape\u003d(self.img_size, self.img_size, 3), activation\u003d\u0027relu\u0027, padding\u003d\u0027same\u0027))\n        model.add(MaxPooling2D())\n\n        model.add(Conv2D(64, (3, 3), activation\u003d\u0027relu\u0027, padding\u003d\u0027same\u0027))\n        model.add(MaxPooling2D())\n\n        model.add(Conv2D(128, (3, 3), activation\u003d\u0027relu\u0027, padding\u003d\u0027same\u0027))\n        model.add(MaxPooling2D())\n\n        model.add(Conv2D(256, (3, 3), activation\u003d\u0027relu\u0027, padding\u003d\u0027same\u0027))\n        model.add(MaxPooling2D())\n\n        model.add(Flatten())\n\n        model.add(Dense(256, activation\u003d\u0027relu\u0027))\n        model.add(Dropout(0.3))\n        model.add(Dense(131, activation\u003d\u0027softmax\u0027))\n\n        optimizer \u003d Adam(learning_rate\u003dlearning_rate)\n        model.compile(optimizer\u003doptimizer, loss\u003d\u0027sparse_categorical_crossentropy\u0027, metrics\u003d[\u0027accuracy\u0027])\n\n        return model\n\n    def form_custom_model_v2(self, batch_size, learning_rate):\n        # Özelleştirilmiş model oluşturma\n\n        model \u003d Sequential()\n        model.add(Conv2D(64, (3, 3), input_shape\u003d(self.img_size, self.img_size, 3), activation\u003d\u0027relu\u0027, padding\u003d\u0027same\u0027))\n        model.add(MaxPooling2D())\n\n        model.add(Conv2D(64, (3, 3), activation\u003d\u0027relu\u0027, padding\u003d\u0027same\u0027))\n        model.add(MaxPooling2D())\n\n        model.add(Conv2D(128, (3, 3), activation\u003d\u0027relu\u0027, padding\u003d\u0027same\u0027))\n        model.add(MaxPooling2D())\n\n        model.add(Conv2D(256, (3, 3), activation\u003d\u0027relu\u0027, padding\u003d\u0027same\u0027))\n        model.add(MaxPooling2D())\n\n        model.add(Flatten())\n\n        model.add(Dense(256, activation\u003d\u0027relu\u0027))\n        model.add(Dropout(0.5))         ##################################\n        model.add(Dense(131, activation\u003d\u0027softmax\u0027))\n\n        optimizer \u003d Adam(learning_rate\u003dlearning_rate)\n        model.compile(optimizer\u003doptimizer, loss\u003d\u0027sparse_categorical_crossentropy\u0027, metrics\u003d[\u0027accuracy\u0027])\n\n        return model\n        \n    def form_custom_model_v3(self, batch_size, learning_rate):\n        # Özelleştirilmiş model oluşturma\n\n        model \u003d Sequential()\n        model.add(Conv2D(32, (3, 3), input_shape\u003d(self.img_size, self.img_size, 3), activation\u003d\u0027relu\u0027, padding\u003d\u0027same\u0027)) #####################\n        model.add(MaxPooling2D())\n\n        model.add(Conv2D(64, (3, 3), activation\u003d\u0027relu\u0027, padding\u003d\u0027same\u0027))\n        model.add(MaxPooling2D())\n\n        model.add(Conv2D(128, (3, 3), activation\u003d\u0027relu\u0027, padding\u003d\u0027same\u0027))\n        model.add(MaxPooling2D())\n\n        model.add(Conv2D(256, (3, 3), activation\u003d\u0027relu\u0027, padding\u003d\u0027same\u0027))\n        model.add(MaxPooling2D())\n\n        model.add(Flatten())\n\n        model.add(Dense(256, activation\u003d\u0027relu\u0027))\n        model.add(Dropout(0.3))\n        model.add(Dense(131, activation\u003d\u0027softmax\u0027))\n\n        optimizer \u003d Adam(learning_rate\u003dlearning_rate)\n        model.compile(optimizer\u003doptimizer, loss\u003d\u0027sparse_categorical_crossentropy\u0027, metrics\u003d[\u0027accuracy\u0027])\n\n        return model\n        \n    def form_custom_model_v4(self, batch_size, learning_rate):\n        # Özelleştirilmiş model oluşturma\n\n        model \u003d Sequential()\n        model.add(Conv2D(64, (3, 3), input_shape\u003d(self.img_size, self.img_size, 3), activation\u003d\u0027relu\u0027, padding\u003d\u0027same\u0027))\n        model.add(MaxPooling2D())\n\n        model.add(Conv2D(64, (3, 3), activation\u003d\u0027relu\u0027, padding\u003d\u0027same\u0027))\n        model.add(MaxPooling2D())\n\n        model.add(Conv2D(128, (3, 3), activation\u003d\u0027relu\u0027, padding\u003d\u0027same\u0027))\n        model.add(MaxPooling2D())\n\n        model.add(Conv2D(256, (3, 3), activation\u003d\u0027relu\u0027, padding\u003d\u0027same\u0027))\n        model.add(MaxPooling2D())\n\n        model.add(Conv2D(512, (3, 3), activation\u003d\u0027relu\u0027, padding\u003d\u0027same\u0027)) ###################################3\n        model.add(MaxPooling2D())\n        \n        model.add(Flatten())\n\n        model.add(Dense(256, activation\u003d\u0027relu\u0027))\n        model.add(Dropout(0.3))\n        model.add(Dense(131, activation\u003d\u0027softmax\u0027))\n\n        optimizer \u003d Adam(learning_rate\u003dlearning_rate)\n        model.compile(optimizer\u003doptimizer, loss\u003d\u0027sparse_categorical_crossentropy\u0027, metrics\u003d[\u0027accuracy\u0027])\n\n        return model\n\n    def form_custom_model_v5(self, batch_size, learning_rate):\n        # Özelleştirilmiş model oluşturma\n\n        model \u003d Sequential()\n        model.add(Conv2D(64, (3, 3), input_shape\u003d(self.img_size, self.img_size, 3), activation\u003d\u0027relu\u0027, padding\u003d\u0027same\u0027))\n        model.add(MaxPooling2D())\n\n        model.add(Conv2D(64, (3, 3), activation\u003d\u0027relu\u0027, padding\u003d\u0027same\u0027))\n        model.add(MaxPooling2D())\n\n        model.add(Conv2D(128, (3, 3), activation\u003d\u0027relu\u0027, padding\u003d\u0027same\u0027))\n        model.add(MaxPooling2D())\n\n ##################################################\n\n        model.add(Flatten())\n\n        model.add(Dense(256, activation\u003d\u0027relu\u0027))\n        model.add(Dropout(0.3))\n        model.add(Dense(131, activation\u003d\u0027softmax\u0027))\n\n        optimizer \u003d Adam(learning_rate\u003dlearning_rate)\n        model.compile(optimizer\u003doptimizer, loss\u003d\u0027sparse_categorical_crossentropy\u0027, metrics\u003d[\u0027accuracy\u0027])\n\n        return model\n   \n   \n    def form_custom_model_v6(self, batch_size, learning_rate):\n    # Özelleştirilmiş model oluşturma\n\n        model \u003d Sequential()\n        model.add(Conv2D(64, (3, 3), input_shape\u003d(self.img_size, self.img_size, 3), activation\u003d\u0027relu\u0027, padding\u003d\u0027same\u0027))\n        model.add(MaxPooling2D())\n    \n        model.add(Conv2D(64, (3, 3), activation\u003d\u0027relu\u0027, padding\u003d\u0027same\u0027))\n        model.add(MaxPooling2D())\n    \n        model.add(Conv2D(128, (3, 3), activation\u003d\u0027relu\u0027, padding\u003d\u0027same\u0027))\n        model.add(MaxPooling2D())\n    \n        model.add(Conv2D(256, (3, 3), activation\u003d\u0027relu\u0027, padding\u003d\u0027same\u0027))\n        model.add(MaxPooling2D())\n    \n        model.add(Flatten())\n    \n        model.add(Dense(256, activation\u003d\u0027relu\u0027)) \n        model.add(Dropout(0.3))\n        model.add(Dense(256, activation\u003d\u0027relu\u0027))\n        model.add(Dropout(0.3))                         #######################################\n        model.add(Dense(131, activation\u003d\u0027softmax\u0027))\n    \n        optimizer \u003d Adam(learning_rate\u003dlearning_rate)\n        model.compile(optimizer\u003doptimizer, loss\u003d\u0027sparse_categorical_crossentropy\u0027, metrics\u003d[\u0027accuracy\u0027])\n\n        return model     \n        \n\n    def train(self, model_type, batch_size, learning_rate, epochs):\n        run \u003d wandb.init(\n            project\u003d\"fruits-project2\",\n            config\u003d{\n                \"model_type\": model_type,\n                \"batch_size\": batch_size,\n                \"learning_rate\": learning_rate,\n                \"epochs\": epochs,\n            }\n        )\n\n        if model_type \u003d\u003d \u0027custom_v1\u0027:\n            model \u003d self.form_custom_model_v1(batch_size, learning_rate)\n        elif model_type \u003d\u003d \u0027custom_v2\u0027:\n            model \u003d self.form_custom_model_v2(batch_size, learning_rate)\n        elif model_type \u003d\u003d \u0027custom_v3\u0027:\n            model \u003d self.form_custom_model_v3(batch_size, learning_rate)\n        elif model_type \u003d\u003d \u0027custom_v4\u0027:\n            model \u003d self.form_custom_model_v4(batch_size, learning_rate)\n        elif model_type \u003d\u003d \u0027custom_v5\u0027:\n            model \u003d self.form_custom_model_v5(batch_size, learning_rate)\n        elif model_type \u003d\u003d \u0027custom_v6\u0027:\n            model \u003d self.form_custom_model_v6(batch_size, learning_rate)\n        else:\n            raise ValueError(\"Geçersiz model tipi. \u0027custom_v1\u0027 ile \u0027custom_v6\u0027 arasında olmalıdır.\")\n            \n\n        \n\n        # Eğitim verilerini hazırlama gibi diğer kod bölümleri buraya gelecek...\n        # \u0027train_generator\u0027 ve \u0027test_generator\u0027 verilerini hazırlamak gibi.\n\n        train_datagen \u003d ImageDataGenerator(\n            rescale\u003d1/255.,\n            rotation_range\u003d15,\n            width_shift_range\u003d0.2,\n            height_shift_range\u003d0.2,\n            zoom_range\u003d0.2,\n            horizontal_flip\u003dTrue,\n            fill_mode\u003d\u0027nearest\u0027\n        )\n        test_datagen \u003d ImageDataGenerator(rescale\u003d1/255.)\n\n        train_generator \u003d train_datagen.flow_from_directory(\n            \u0027/tmp/fruits-360_dataset/fruits-360/Training\u0027,\n            target_size\u003d(self.img_size, self.img_size),\n            batch_size\u003dbatch_size,\n            shuffle\u003dTrue,\n            class_mode\u003d\u0027sparse\u0027\n        )\n\n        test_generator \u003d test_datagen.flow_from_directory(\n            \u0027/tmp/fruits-360_dataset/fruits-360/Test\u0027,\n            target_size\u003d(self.img_size, self.img_size),\n            batch_size\u003dbatch_size,\n            shuffle\u003dFalse,\n            class_mode\u003d\u0027sparse\u0027\n        )\n\n        # TensorBoard geriçağırıcısını oluşturun ve loglarınızı belirli bir dizine kaydedin\n        tensorboard_callback \u003d TensorBoard(log_dir\u003d\u0027/tmp\u0027)\n\n        history \u003d model.fit(\n            train_generator,\n            validation_data\u003dtest_generator,\n            epochs\u003depochs,\n            callbacks\u003d[\n                tensorboard_callback,  # TensorBoard loglarını kaydetmek için TensorBoard geriçağırıcısı\n                WandbMetricsLogger(),  # Weights \u0026 Biases için metrikleri loglamak için geriçağırıcı\n                WandbModelCheckpoint(\"models\"),  # Weights \u0026 Biases için en iyi modeli kaydedecek geriçağırıcı\n            ]\n        )\n\n        model_save_path \u003d f\"/tmp/model_{model_type}_batch{batch_size}_lr{learning_rate}.h5\"\n        save_model(model, model_save_path)\n        \n        # TensorBoard loglarını Weights \u0026 Biases ile senkronize etmek için\n        #wandb.tensorboard.patch(root_logdir\u003d\u0027/tmp\u0027)\n        wandb.finish()\n        \n\n        return history\n        \n   \n"
    },
    {
      "cell_type": "code",
      "execution_count": 11,
      "metadata": {
        "autoscroll": "auto"
      },
      "outputs": [],
      "source": "%python\nmodel \u003d FruitsClassificationModel()\n\nparam_combinations \u003d [\n    {\u0027model_type\u0027: \u0027custom_v1\u0027, \u0027batch_size\u0027: 32, \u0027learning_rate\u0027: 0.001},\n    {\u0027model_type\u0027: \u0027custom_v2\u0027, \u0027batch_size\u0027: 32, \u0027learning_rate\u0027: 0.001},\n    {\u0027model_type\u0027: \u0027custom_v3\u0027, \u0027batch_size\u0027: 32, \u0027learning_rate\u0027: 0.001},\n    {\u0027model_type\u0027: \u0027custom_v4\u0027, \u0027batch_size\u0027: 32, \u0027learning_rate\u0027: 0.001},\n    {\u0027model_type\u0027: \u0027custom_v5\u0027, \u0027batch_size\u0027: 32, \u0027learning_rate\u0027: 0.001},\n    {\u0027model_type\u0027: \u0027custom_v6\u0027, \u0027batch_size\u0027: 32, \u0027learning_rate\u0027: 0.001}\n]\n\nfor params in param_combinations:\n    model_type \u003d params[\u0027model_type\u0027]\n    batch_size \u003d params[\u0027batch_size\u0027]\n    learning_rate \u003d params[\u0027learning_rate\u0027]\n\n    print(f\"Training with model_type\u003d\u0027{model_type}\u0027, batch_size\u003d{batch_size}, learning_rate\u003d{learning_rate}\")\n    history \u003d model.train(model_type\u003dmodel_type, batch_size\u003dbatch_size, learning_rate\u003dlearning_rate, epochs\u003d12)\n"
    },
    {
      "cell_type": "code",
      "execution_count": 12,
      "metadata": {
        "autoscroll": "auto"
      },
      "outputs": [],
      "source": "%python\nmodel \u003d FruitsClassificationModel()\n\nparam_combinations \u003d [\n    {\u0027model_type\u0027: \u0027custom_v2\u0027, \u0027batch_size\u0027: 32, \u0027learning_rate\u0027: 0.0001},\n\n]\n\nfor params in param_combinations:\n    model_type \u003d params[\u0027model_type\u0027]\n    batch_size \u003d params[\u0027batch_size\u0027]\n    learning_rate \u003d params[\u0027learning_rate\u0027]\n\n    print(f\"Training with model_type\u003d\u0027{model_type}\u0027, batch_size\u003d{batch_size}, learning_rate\u003d{learning_rate}\")\n    history \u003d model.train(model_type\u003dmodel_type, batch_size\u003dbatch_size, learning_rate\u003dlearning_rate, epochs\u003d25)"
    },
    {
      "cell_type": "code",
      "execution_count": 13,
      "metadata": {
        "autoscroll": "auto"
      },
      "outputs": [],
      "source": "%python\n!ls /tmp"
    },
    {
      "cell_type": "code",
      "execution_count": 14,
      "metadata": {
        "autoscroll": "auto"
      },
      "outputs": [],
      "source": "%python\n!rm /tmp/egitilmis_model_custom_v2_batch32_lr0.0001.h5"
    },
    {
      "cell_type": "code",
      "execution_count": 15,
      "metadata": {
        "autoscroll": "auto"
      },
      "outputs": [],
      "source": "%python\n\nfrom tensorflow.keras.models import load_model\n\nmodel \u003d load_model(\u0027/tmp/model_custom_v2_batch32_lr0.0001.h5\u0027)\n\n# Test veri kümesini yükleyin\n\npredictions \u003d model.predict(test_generator)\n\n# Tahminlerin doğru etiketlerle karşılaştırılması\ncorrect_predictions \u003d 0\ntotal_samples \u003d len(test_generator.labels)\n\nfor i in range(total_samples):\n    predicted_label \u003d np.argmax(predictions[i])  # En yüksek olasılığa sahip sınıfı bul\n    true_label \u003d test_generator.labels[i]  # Gerçek etiketi al\n\n    if predicted_label \u003d\u003d true_label:\n        correct_predictions +\u003d 1\n\n# Doğruluk hesapla\naccuracy \u003d correct_predictions / total_samples * 100\nprint(f\"Test veri kümesi üzerinde doğruluk: {accuracy:.2f}%\")"
    },
    {
      "cell_type": "code",
      "execution_count": 16,
      "metadata": {
        "autoscroll": "auto"
      },
      "outputs": [],
      "source": "%python\nfrom tensorflow.keras.models import load_model\n\nmodel \u003d load_model(\u0027/tmp/model_custom_v2_batch32_lr0.0001.h5\u0027)\n"
    },
    {
      "cell_type": "code",
      "execution_count": 17,
      "metadata": {
        "autoscroll": "auto"
      },
      "outputs": [],
      "source": "%python\nfrom hdfs import InsecureClient\nimport pandas as pd\nclient_hdfs \u003d InsecureClient(\u0027http://httpfs.httpfs.svc.cluster.local:14000\u0027, user\u003d\"hadoop\")\nclient_hdfs.download(\"/staj/samet/test-folder.zip\",\"/tmp/\")"
    },
    {
      "cell_type": "code",
      "execution_count": 18,
      "metadata": {
        "autoscroll": "auto"
      },
      "outputs": [],
      "source": "%python\nimport zipfile\n\nzip_path \u003d \"/tmp/test-folder.zip\"\nextract_path \u003d \"/tmp\"\n\nwith zipfile.ZipFile(zip_path, \u0027r\u0027) as zip_ref:\n    zip_ref.extractall(extract_path)"
    },
    {
      "cell_type": "code",
      "execution_count": 19,
      "metadata": {
        "autoscroll": "auto"
      },
      "outputs": [],
      "source": "%python\n!ls /tmp"
    },
    {
      "cell_type": "code",
      "execution_count": 20,
      "metadata": {
        "autoscroll": "auto"
      },
      "outputs": [],
      "source": "%python\nfrom tensorflow.keras.preprocessing.image import ImageDataGenerator\n\n\n# Yabancı veri kümesindeki fotoğrafları uygun boyuta getirin\ntest_pre_folder \u003d ImageDataGenerator(rescale\u003d1/255.)\n\ntest_folder \u003d test_pre_folder.flow_from_directory(\n    \u0027/tmp/test-folder\u0027,\n    target_size\u003d(100, 100),  # Uygun boyutu burada belirtin (100x100 olarak kabul ediyoruz)\n    batch_size\u003d32,           # Kullanılacak batch_size\u0027ı belirleyin (eğitimdekiyle aynı olabilir)\n    shuffle\u003dFalse,\n    class_mode\u003d\u0027sparse\u0027\n)\n\n# Yabancı veri kümesi üzerinde modeli değerlendirin\nevaluation_result \u003d model.evaluate(test_folder)\n\n# Accuracy sonucunu yazdırın\nprint(f\"Yabancı veri kümesi üzerinde doğruluk (accuracy): {evaluation_result[1]}\")\n"
    },
    {
      "cell_type": "code",
      "execution_count": 21,
      "metadata": {
        "autoscroll": "auto"
      },
      "outputs": [],
      "source": "%python\nfrom tensorflow.keras.preprocessing.image import ImageDataGenerator\n\ntest_datagen \u003d ImageDataGenerator(rescale\u003d1/255.)\n\n\ntest_generator \u003d test_datagen.flow_from_directory(\n    \u0027/tmp/fruits-360_dataset/fruits-360/Test\u0027,\n    target_size\u003d(100,100),\n    batch_size\u003dbatch_size,\n    shuffle\u003dFalse,\n    class_mode\u003d\u0027sparse\u0027\n)\n\n# Yabancı veri kümesi üzerinde modeli değerlendirin\nevaluation_result \u003d model.evaluate(test_generator)\n\n# Accuracy sonucunu yazdırın\nprint(f\"Kendi test kümesi üzerinde doğruluk (accuracy): {evaluation_result[1]}\")\n\n"
    },
    {
      "cell_type": "code",
      "execution_count": 22,
      "metadata": {
        "autoscroll": "auto"
      },
      "outputs": [],
      "source": "%python\nimport random\nimport os \nfrom tensorflow.keras.preprocessing.image import ImageDataGenerator, img_to_array, load_img\n\n# Yabancı veri kümesinden rastgele 3 tane fotoğraf seçin\nrandom_indices \u003d random.sample(range(len(test_folder.filenames)), 3)\nrandom_images \u003d [test_folder.filenames[i] for i in random_indices]\nrandom_labels \u003d [test_folder.labels[i] for i in random_indices]\n\n# Seçilen fotoğrafları ve tahminleri ekrana yazdırın\nfor image_path, true_label in zip(random_images, random_labels):\n    image \u003d load_img(os.path.join(\u0027/tmp/test-folder\u0027, image_path), target_size\u003d(100, 100))\n    image_array \u003d img_to_array(image)\n    image_array \u003d image_array.reshape((1,) + image_array.shape)\n    image_array /\u003d 255.0  # Veriyi 0-1 aralığına getirin\n\n    # Tahmini alın\n    predictions \u003d model.predict(image_array)\n    predicted_label \u003d predictions.argmax()\n\n    # Sonuçları yazdırın\n    print(\"Gerçek Etiket:\", test_folder.classes[true_label])\n    print(\"Tahmin Edilen Etiket:\", test_folder.classes[predicted_label])\n    print(\"Tahmin Sonuçları:\", predictions)\n    print(\"Doğru Tahmin mi?:\", true_label \u003d\u003d predicted_label)\n    print(\"\\n\")"
    }
  ]
}